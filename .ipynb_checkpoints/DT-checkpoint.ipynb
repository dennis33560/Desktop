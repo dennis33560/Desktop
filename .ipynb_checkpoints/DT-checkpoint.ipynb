{
 "cells": [
  {
   "cell_type": "code",
   "execution_count": 1,
   "metadata": {},
   "outputs": [],
   "source": [
    "import pandas as pd\n",
    "import matplotlib.pyplot as plt \n",
    "import numpy as np"
   ]
  },
  {
   "cell_type": "code",
   "execution_count": 2,
   "metadata": {},
   "outputs": [],
   "source": [
    "bank_p = 'bank-additional-full.csv'"
   ]
  },
  {
   "cell_type": "code",
   "execution_count": 3,
   "metadata": {},
   "outputs": [],
   "source": [
    "bank = pd.read_csv(bank_p, sep=';', decimal='.')"
   ]
  },
  {
   "cell_type": "code",
   "execution_count": 4,
   "metadata": {},
   "outputs": [],
   "source": [
    "from sklearn.model_selection import train_test_split\n",
    "from sklearn import preprocessing\n",
    "from sklearn.metrics import confusion_matrix\n",
    "from sklearn.tree import DecisionTreeClassifier\n",
    "from sklearn.metrics import classification_report\n",
    "from sklearn.metrics import accuracy_score\n",
    "from sklearn import tree"
   ]
  },
  {
   "cell_type": "code",
   "execution_count": 5,
   "metadata": {},
   "outputs": [],
   "source": [
    "#Changing categorical variables to numerical\n",
    "for column in bank.columns:\n",
    "    if bank[column].dtype == type(object):\n",
    "        le = preprocessing.LabelEncoder()\n",
    "        bank[column] = le.fit_transform(bank[column])"
   ]
  },
  {
   "cell_type": "code",
   "execution_count": 6,
   "metadata": {},
   "outputs": [],
   "source": [
    "def dt(num):\n",
    "    y = bank.y\n",
    "    x = bank.drop(['emp.var.rate', 'cons.price.idx', 'cons.conf.idx', 'euribor3m', 'nr.employed', 'y', 'month', 'day_of_week'], axis=1)\n",
    "    X_train, X_test, y_train, y_test = train_test_split(x,y,test_size=num,random_state=100)\n",
    "    clf_entropy = DecisionTreeClassifier(criterion = \"entropy\", random_state = 100,\n",
    "                                  max_depth = None,min_samples_split=2,\n",
    "                                  max_features=None,max_leaf_nodes = None)\n",
    "    clf_entropy.fit(X_train, y_train)\n",
    "    y_pred = clf_entropy.predict(X_test)\n",
    "    cm = confusion_matrix(y_test, y_pred)\n",
    "    print(\"Confusion Matrix with Test Split of \" + str(num*100) + \"%\"+\":\")\n",
    "    print(cm)\n",
    "    print\n",
    "    print(\"Classification Report with Test Split of \" + str(num*100) + \"%\"+\":\")\n",
    "    print classification_report(y_test,y_pred)"
   ]
  },
  {
   "cell_type": "code",
   "execution_count": 7,
   "metadata": {},
   "outputs": [
    {
     "name": "stdout",
     "output_type": "stream",
     "text": [
      "Confusion Matrix with Test Split of 50.0%:\n",
      "[[16792  1452]\n",
      " [ 1393   957]]\n",
      "\n",
      "Classification Report with Test Split of 50.0%:\n",
      "              precision    recall  f1-score   support\n",
      "\n",
      "           0       0.92      0.92      0.92     18244\n",
      "           1       0.40      0.41      0.40      2350\n",
      "\n",
      "   micro avg       0.86      0.86      0.86     20594\n",
      "   macro avg       0.66      0.66      0.66     20594\n",
      "weighted avg       0.86      0.86      0.86     20594\n",
      "\n"
     ]
    }
   ],
   "source": [
    "dt(0.5)"
   ]
  },
  {
   "cell_type": "code",
   "execution_count": 8,
   "metadata": {},
   "outputs": [
    {
     "name": "stdout",
     "output_type": "stream",
     "text": [
      "Confusion Matrix with Test Split of 40.0%:\n",
      "[[13473  1144]\n",
      " [ 1084   775]]\n",
      "\n",
      "Classification Report with Test Split of 40.0%:\n",
      "              precision    recall  f1-score   support\n",
      "\n",
      "           0       0.93      0.92      0.92     14617\n",
      "           1       0.40      0.42      0.41      1859\n",
      "\n",
      "   micro avg       0.86      0.86      0.86     16476\n",
      "   macro avg       0.66      0.67      0.67     16476\n",
      "weighted avg       0.87      0.86      0.87     16476\n",
      "\n"
     ]
    }
   ],
   "source": [
    "dt(0.4)"
   ]
  },
  {
   "cell_type": "code",
   "execution_count": 9,
   "metadata": {},
   "outputs": [
    {
     "name": "stdout",
     "output_type": "stream",
     "text": [
      "Confusion Matrix with Test Split of 20.0%:\n",
      "[[6767  568]\n",
      " [ 527  376]]\n",
      "\n",
      "Classification Report with Test Split of 20.0%:\n",
      "              precision    recall  f1-score   support\n",
      "\n",
      "           0       0.93      0.92      0.93      7335\n",
      "           1       0.40      0.42      0.41       903\n",
      "\n",
      "   micro avg       0.87      0.87      0.87      8238\n",
      "   macro avg       0.66      0.67      0.67      8238\n",
      "weighted avg       0.87      0.87      0.87      8238\n",
      "\n"
     ]
    }
   ],
   "source": [
    "dt(0.2)"
   ]
  },
  {
   "cell_type": "code",
   "execution_count": 10,
   "metadata": {},
   "outputs": [
    {
     "ename": "NameError",
     "evalue": "name 'clf_entropy' is not defined",
     "output_type": "error",
     "traceback": [
      "\u001b[0;31m---------------------------------------------------------------------------\u001b[0m",
      "\u001b[0;31mNameError\u001b[0m                                 Traceback (most recent call last)",
      "\u001b[0;32m<ipython-input-10-a4bdf9ba1383>\u001b[0m in \u001b[0;36m<module>\u001b[0;34m()\u001b[0m\n\u001b[1;32m      1\u001b[0m \u001b[0;32mwith\u001b[0m \u001b[0mopen\u001b[0m\u001b[0;34m(\u001b[0m\u001b[0;34m'bank.dot'\u001b[0m\u001b[0;34m,\u001b[0m \u001b[0;34m'w'\u001b[0m\u001b[0;34m)\u001b[0m \u001b[0;32mas\u001b[0m \u001b[0mf\u001b[0m\u001b[0;34m:\u001b[0m\u001b[0;34m\u001b[0m\u001b[0m\n\u001b[0;32m----> 2\u001b[0;31m     \u001b[0mf\u001b[0m \u001b[0;34m=\u001b[0m \u001b[0mtree\u001b[0m\u001b[0;34m.\u001b[0m\u001b[0mexport_graphviz\u001b[0m\u001b[0;34m(\u001b[0m\u001b[0mclf_entropy\u001b[0m\u001b[0;34m,\u001b[0m \u001b[0mout_file\u001b[0m\u001b[0;34m=\u001b[0m\u001b[0mf\u001b[0m\u001b[0;34m,\u001b[0m \u001b[0mfeature_names\u001b[0m\u001b[0;34m=\u001b[0m\u001b[0mx\u001b[0m\u001b[0;34m.\u001b[0m\u001b[0mcolumns\u001b[0m\u001b[0;34m,\u001b[0m \u001b[0mclass_names\u001b[0m\u001b[0;34m=\u001b[0m \u001b[0my\u001b[0m\u001b[0;34m,\u001b[0m \u001b[0mfilled\u001b[0m\u001b[0;34m=\u001b[0m\u001b[0mTrue\u001b[0m\u001b[0;34m,\u001b[0m \u001b[0mrounded\u001b[0m\u001b[0;34m=\u001b[0m\u001b[0mTrue\u001b[0m\u001b[0;34m,\u001b[0m \u001b[0mspecial_characters\u001b[0m\u001b[0;34m=\u001b[0m\u001b[0mTrue\u001b[0m\u001b[0;34m)\u001b[0m\u001b[0;34m\u001b[0m\u001b[0m\n\u001b[0m",
      "\u001b[0;31mNameError\u001b[0m: name 'clf_entropy' is not defined"
     ]
    }
   ],
   "source": [
    "with open('bank.dot', 'w') as f:\n",
    "    f = tree.export_graphviz(clf_entropy, out_file=f, feature_names=x.columns, class_names= y, filled=True, rounded=True, special_characters=True)\n"
   ]
  },
  {
   "cell_type": "code",
   "execution_count": null,
   "metadata": {},
   "outputs": [],
   "source": []
  }
 ],
 "metadata": {
  "kernelspec": {
   "display_name": "Python 2",
   "language": "python",
   "name": "python2"
  },
  "language_info": {
   "codemirror_mode": {
    "name": "ipython",
    "version": 2
   },
   "file_extension": ".py",
   "mimetype": "text/x-python",
   "name": "python",
   "nbconvert_exporter": "python",
   "pygments_lexer": "ipython2",
   "version": "2.7.15"
  },
  "toc": {
   "base_numbering": 1,
   "nav_menu": {},
   "number_sections": true,
   "sideBar": true,
   "skip_h1_title": false,
   "title_cell": "Table of Contents",
   "title_sidebar": "Contents",
   "toc_cell": false,
   "toc_position": {},
   "toc_section_display": true,
   "toc_window_display": false
  }
 },
 "nbformat": 4,
 "nbformat_minor": 2
}
